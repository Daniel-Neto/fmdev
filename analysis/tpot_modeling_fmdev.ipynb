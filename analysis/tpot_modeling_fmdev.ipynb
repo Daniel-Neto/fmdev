{
 "cells": [
  {
   "cell_type": "code",
   "execution_count": 1,
   "metadata": {},
   "outputs": [],
   "source": [
    "import numpy as np\n",
    "import pandas as pd\n",
    "from tpot import TPOTClassifier\n",
    "\n",
    "from dask.distributed import Client\n",
    "from sklearn.metrics import SCORERS, confusion_matrix, plot_confusion_matrix, roc_curve, roc_auc_score\n",
    "import joblib\n",
    "import matplotlib.pyplot as plt"
   ]
  },
  {
   "cell_type": "code",
   "execution_count": 2,
   "metadata": {},
   "outputs": [],
   "source": [
    "def get_df_from_default():\n",
    "    df_temp = pd.read_csv(\"data/base.csv\", sep=';')\n",
    "\n",
    "    df_temp = df_temp[df_temp['Curso'] == 'Biologia']\n",
    "\n",
    "    df = df_temp[['VAR01', 'VAR02', 'VAR03', 'VAR04', 'VAR05',\n",
    "                  'VAR06', 'VAR07', 'VAR08', 'VAR09', 'VAR10',\n",
    "                  'VAR12', 'VAR14', 'VAR15', 'VAR16', 'VAR17',\n",
    "                  'VAR18', 'VAR19', 'VAR20', 'VAR21', 'VAR22',\n",
    "                  'VAR23', 'VAR24', 'VAR25', 'VAR28', 'VAR30',\n",
    "                  'VAR31', 'VAR31b', 'VAR31c', 'VAR32a', 'VAR32b',\n",
    "                  'VAR32c', 'VAR32d', 'VAR33', 'VAR34', 'VAR35', 'DESEMPENHO_BINARIO']]\n",
    "\n",
    "    df = df.rename(columns={\"DESEMPENHO_BINARIO\": \"Y\"})\n",
    "\n",
    "    df[\"VAR17\"] = df[\"VAR17\"].astype(str).replace(',','.')\n",
    "    df[\"VAR24\"] = df[\"VAR24\"].astype(str).replace(',','.')\n",
    "    df[\"VAR25\"] = df[\"VAR25\"].astype(str).replace(',','.')\n",
    "    df[\"VAR30\"] = df[\"VAR30\"].astype(str).replace(',','.')\n",
    "\n",
    "    df[\"VAR17\"] = df[\"VAR17\"].astype(float)\n",
    "    df[\"VAR24\"] = df[\"VAR24\"].astype(float)\n",
    "    df[\"VAR25\"] = df[\"VAR25\"].astype(float)\n",
    "    df[\"VAR30\"] = df[\"VAR30\"].astype(float)\n",
    "    \n",
    "    return df"
   ]
  },
  {
   "cell_type": "code",
   "execution_count": 3,
   "metadata": {},
   "outputs": [],
   "source": [
    "def get_df_from_fmdev():\n",
    "    df = pd.read_csv(\"../backend/data/raw/94ca2547-88c4-4c10-9446-c71a09dc579e.csv\")\n",
    "    \n",
    "#     df_categoric = df.copy()\n",
    "#     df_categoric = df_categoric.select_dtypes(include=['object'])\n",
    "#     df = df.drop(df_categoric.columns, axis=1)\n",
    "#     del df['id_do_aluno']\n",
    "\n",
    "        \n",
    "    \n",
    "#     df = df[['var01', 'var02', 'var03', 'var04', 'var05',\n",
    "#                   'var06', 'var07', 'var08', 'var09', 'var10',\n",
    "#                   'var12', 'var14', 'var15', 'var16', 'var17',\n",
    "#                   'var18', 'var19', 'var20', 'var21', 'var22',\n",
    "#                   'var23', 'var24', 'var25', 'var28', 'var30',\n",
    "#                   'var31', 'var31b', 'var31c', 'var32a', 'var32b',\n",
    "#                   'var32c', 'var32d', 'var33', 'var34', 'var35', 'desempenho_binario']]\n",
    "\n",
    "#     df = df.rename(columns={\"desempenho_binario\": \"y\"})\n",
    "\n",
    "#     df[\"var17\"] = df[\"var17\"].astype(str).replace(',','.')\n",
    "#     df[\"var24\"] = df[\"var24\"].astype(str).replace(',','.')\n",
    "#     df[\"var25\"] = df[\"var25\"].astype(str).replace(',','.')\n",
    "#     df[\"var30\"] = df[\"var30\"].astype(str).replace(',','.')\n",
    "\n",
    "#     df[\"var17\"] = df[\"var17\"].astype(float)\n",
    "#     df[\"var24\"] = df[\"var24\"].astype(float)\n",
    "#     df[\"var25\"] = df[\"var25\"].astype(float)\n",
    "#     df[\"var30\"] = df[\"var30\"].astype(float)\n",
    "    \n",
    "    return df"
   ]
  },
  {
   "cell_type": "code",
   "execution_count": 3,
   "metadata": {},
   "outputs": [],
   "source": [
    "def get_split(df, target):\n",
    "    msk = np.random.rand(len(df)) < 0.7\n",
    "\n",
    "    train = df[msk]\n",
    "    test = df[~msk]\n",
    "\n",
    "    Y_test = test[target]\n",
    "    X_test = test.drop(labels = [target],axis = 1)\n",
    "\n",
    "    Y_train = train[target]\n",
    "    X_train = train.drop(labels = [target],axis = 1)\n",
    "    \n",
    "    return X_train, Y_train, X_test, Y_test"
   ]
  },
  {
   "cell_type": "code",
   "execution_count": 4,
   "metadata": {},
   "outputs": [],
   "source": [
    "df = get_df_from_default()\n",
    "X_train, Y_train, X_test, Y_test = get_split(df, 'Y')"
   ]
  },
  {
   "cell_type": "code",
   "execution_count": 5,
   "metadata": {},
   "outputs": [
    {
     "name": "stdout",
     "output_type": "stream",
     "text": [
      "31 operators have been imported by TPOT.\n"
     ]
    },
    {
     "data": {
      "application/vnd.jupyter.widget-view+json": {
       "model_id": "",
       "version_major": 2,
       "version_minor": 0
      },
      "text/plain": [
       "HBox(children=(FloatProgress(value=0.0, description='Optimization Progress', max=20.0, style=ProgressStyle(des…"
      ]
     },
     "metadata": {},
     "output_type": "display_data"
    },
    {
     "name": "stdout",
     "output_type": "stream",
     "text": [
      "_pre_test decorator: _random_mutation_operator: num_test=0 Solver lbfgs supports only 'l2' or 'none' penalties, got l1 penalty..\n",
      "_pre_test decorator: _random_mutation_operator: num_test=0 Negative values in data passed to MultinomialNB (input X).\n",
      "Generation 1 - Current Pareto front scores:\n",
      "-1\t0.8885935769656699\tRandomForestClassifier(input_matrix, RandomForestClassifier__bootstrap=True, RandomForestClassifier__criterion=gini, RandomForestClassifier__max_features=0.45, RandomForestClassifier__min_samples_leaf=9, RandomForestClassifier__min_samples_split=3, RandomForestClassifier__n_estimators=100)\n",
      "-2\t0.8899224806201552\tXGBClassifier(ZeroCount(input_matrix), XGBClassifier__learning_rate=0.1, XGBClassifier__max_depth=7, XGBClassifier__min_child_weight=20, XGBClassifier__n_estimators=100, XGBClassifier__nthread=1, XGBClassifier__subsample=0.6000000000000001)\n",
      "\n",
      "Saving periodic pipeline from pareto front to data/tpot-output/pipeline_gen_1_idx_0_2020.04.15_19-02-07.py\n",
      "Saving periodic pipeline from pareto front to data/tpot-output/pipeline_gen_1_idx_1_2020.04.15_19-02-07.py\n",
      "_pre_test decorator: _random_mutation_operator: num_test=0 '(slice(None, None, None), 0)' is an invalid key.\n",
      "_pre_test decorator: _random_mutation_operator: num_test=0 Found array with 0 feature(s) (shape=(50, 0)) while a minimum of 1 is required..\n",
      "Generation 2 - Current Pareto front scores:\n",
      "-1\t0.8885935769656699\tRandomForestClassifier(input_matrix, RandomForestClassifier__bootstrap=True, RandomForestClassifier__criterion=gini, RandomForestClassifier__max_features=0.45, RandomForestClassifier__min_samples_leaf=9, RandomForestClassifier__min_samples_split=3, RandomForestClassifier__n_estimators=100)\n",
      "-2\t0.8899224806201552\tXGBClassifier(ZeroCount(input_matrix), XGBClassifier__learning_rate=0.1, XGBClassifier__max_depth=7, XGBClassifier__min_child_weight=20, XGBClassifier__n_estimators=100, XGBClassifier__nthread=1, XGBClassifier__subsample=0.6000000000000001)\n",
      "\n",
      "Generation 3 - Current Pareto front scores:\n",
      "-1\t0.8885935769656699\tRandomForestClassifier(input_matrix, RandomForestClassifier__bootstrap=True, RandomForestClassifier__criterion=gini, RandomForestClassifier__max_features=0.45, RandomForestClassifier__min_samples_leaf=9, RandomForestClassifier__min_samples_split=3, RandomForestClassifier__n_estimators=100)\n",
      "-2\t0.8899224806201552\tXGBClassifier(ZeroCount(input_matrix), XGBClassifier__learning_rate=0.1, XGBClassifier__max_depth=7, XGBClassifier__min_child_weight=20, XGBClassifier__n_estimators=100, XGBClassifier__nthread=1, XGBClassifier__subsample=0.6000000000000001)\n",
      "\n",
      "Periodic pipeline was not saved, probably saved before...\n",
      "Periodic pipeline was not saved, probably saved before...\n",
      "_pre_test decorator: _random_mutation_operator: num_test=0 [19:03:08] /private/var/folders/kg/56jlft1d2ts2r4l5v96sv18h0000gn/T/pip-install-_qm87u0a/xgboost/xgboost/src/learner.cc:946: Check failed: mparam_.num_feature != 0 (0 vs. 0) : 0 feature is supplied.  Are you using raw Booster interface?\n",
      "Stack trace:\n",
      "  [bt] (0) 1   libxgboost.dylib                    0x000000012a0ee9e0 dmlc::LogMessageFatal::~LogMessageFatal() + 112\n",
      "  [bt] (1) 2   libxgboost.dylib                    0x000000012a189576 xgboost::LearnerImpl::ConfigureNumFeatures() + 822\n",
      "  [bt] (2) 3   libxgboost.dylib                    0x000000012a17fecf xgboost::LearnerImpl::Configure() + 1119\n",
      "  [bt] (3) 4   libxgboost.dylib                    0x000000012a180459 xgboost::LearnerImpl::UpdateOneIter(int, xgboost::DMatrix*) + 121\n",
      "  [bt] (4) 5   libxgboost.dylib                    0x000000012a0e7e8a XGBoosterUpdateOneIter + 122\n",
      "  [bt] (5) 6   _ctypes.cpython-37m-darwin.so       0x000000010cb350d7 ffi_call_unix64 + 79\n",
      "  [bt] (6) 7   ???                                 0x00007ffee4bccf00 0x0 + 140732735999744\n",
      "\n",
      ".\n",
      "_pre_test decorator: _random_mutation_operator: num_test=0 Solver lbfgs supports only 'l2' or 'none' penalties, got l1 penalty..\n",
      "Generation 4 - Current Pareto front scores:\n",
      "-1\t0.8885935769656699\tRandomForestClassifier(input_matrix, RandomForestClassifier__bootstrap=True, RandomForestClassifier__criterion=gini, RandomForestClassifier__max_features=0.45, RandomForestClassifier__min_samples_leaf=9, RandomForestClassifier__min_samples_split=3, RandomForestClassifier__n_estimators=100)\n",
      "-2\t0.8899224806201552\tXGBClassifier(ZeroCount(input_matrix), XGBClassifier__learning_rate=0.1, XGBClassifier__max_depth=7, XGBClassifier__min_child_weight=20, XGBClassifier__n_estimators=100, XGBClassifier__nthread=1, XGBClassifier__subsample=0.6000000000000001)\n",
      "\n",
      "Periodic pipeline was not saved, probably saved before...\n",
      "Periodic pipeline was not saved, probably saved before...\n",
      "_pre_test decorator: _random_mutation_operator: num_test=0 feature_names mismatch: ['VAR01', 'VAR02', 'VAR03', 'VAR04', 'VAR05', 'VAR06', 'VAR07', 'VAR08', 'VAR09', 'VAR10', 'VAR12', 'VAR14', 'VAR15', 'VAR16', 'VAR17', 'VAR18', 'VAR19', 'VAR20', 'VAR21', 'VAR22', 'VAR23', 'VAR24', 'VAR25', 'VAR28', 'VAR30', 'VAR31', 'VAR31b', 'VAR31c', 'VAR32a', 'VAR32b', 'VAR32c', 'VAR32d', 'VAR33', 'VAR34', 'VAR35'] ['f0', 'f1', 'f2', 'f3', 'f4', 'f5', 'f6', 'f7', 'f8', 'f9', 'f10', 'f11', 'f12', 'f13', 'f14', 'f15', 'f16', 'f17', 'f18', 'f19', 'f20', 'f21', 'f22', 'f23', 'f24', 'f25', 'f26', 'f27', 'f28', 'f29', 'f30', 'f31', 'f32', 'f33', 'f34']\n",
      "expected VAR19, VAR30, VAR18, VAR07, VAR17, VAR24, VAR21, VAR14, VAR20, VAR33, VAR35, VAR09, VAR32b, VAR06, VAR32d, VAR28, VAR08, VAR05, VAR04, VAR16, VAR32c, VAR22, VAR25, VAR34, VAR10, VAR12, VAR31c, VAR03, VAR32a, VAR31b, VAR01, VAR23, VAR15, VAR31, VAR02 in input data\n",
      "training data did not have the following fields: f24, f33, f28, f32, f14, f19, f0, f12, f20, f21, f4, f27, f25, f13, f18, f23, f10, f34, f22, f17, f29, f11, f2, f15, f3, f8, f26, f16, f9, f1, f7, f30, f6, f31, f5.\n",
      "_pre_test decorator: _random_mutation_operator: num_test=1 Unsupported set of arguments: The combination of penalty='l2' and loss='hinge' are not supported when dual=False, Parameters: penalty='l2', loss='hinge', dual=False.\n",
      "Generation 5 - Current Pareto front scores:\n",
      "-1\t0.8885935769656699\tRandomForestClassifier(input_matrix, RandomForestClassifier__bootstrap=True, RandomForestClassifier__criterion=gini, RandomForestClassifier__max_features=0.45, RandomForestClassifier__min_samples_leaf=9, RandomForestClassifier__min_samples_split=3, RandomForestClassifier__n_estimators=100)\n",
      "-2\t0.8899224806201552\tXGBClassifier(ZeroCount(input_matrix), XGBClassifier__learning_rate=0.1, XGBClassifier__max_depth=7, XGBClassifier__min_child_weight=20, XGBClassifier__n_estimators=100, XGBClassifier__nthread=1, XGBClassifier__subsample=0.6000000000000001)\n",
      "\n",
      "Periodic pipeline was not saved, probably saved before...\n",
      "Periodic pipeline was not saved, probably saved before...\n",
      "\r"
     ]
    }
   ],
   "source": [
    "# connect to the cluster\n",
    "client = Client(processes=False) \n",
    "\n",
    "# create the estimator normally\n",
    "estimator = TPOTClassifier(generations=5, max_time_mins=5, population_size=20, cv=5,\n",
    "                                    random_state=42, verbosity=3, \n",
    "                                    use_dask=True,\n",
    "                                    periodic_checkpoint_folder=\"data/tpot-output/\")\n",
    "\n",
    "# perform the fit in this context manager\n",
    "with joblib.parallel_backend(\"dask\"):\n",
    "    estimator.fit(X_train, Y_train)"
   ]
  },
  {
   "cell_type": "code",
   "execution_count": 6,
   "metadata": {},
   "outputs": [
    {
     "data": {
      "text/plain": [
       "0.9055196419691696"
      ]
     },
     "execution_count": 6,
     "metadata": {},
     "output_type": "execute_result"
    }
   ],
   "source": [
    "estimator.score(X_test, Y_test)"
   ]
  },
  {
   "cell_type": "code",
   "execution_count": 7,
   "metadata": {},
   "outputs": [],
   "source": [
    "best_pipeline = estimator.fitted_pipeline_\n",
    "\n",
    "precision = SCORERS['precision'](best_pipeline, X_test, Y_test)\n",
    "recall = SCORERS['recall'](best_pipeline, X_test, Y_test)\n",
    "roc_auc = SCORERS['roc_auc'](best_pipeline, X_test, Y_test)"
   ]
  },
  {
   "cell_type": "code",
   "execution_count": 8,
   "metadata": {},
   "outputs": [
    {
     "data": {
      "text/plain": [
       "0.9108433734939759"
      ]
     },
     "execution_count": 8,
     "metadata": {},
     "output_type": "execute_result"
    }
   ],
   "source": [
    "precision"
   ]
  },
  {
   "cell_type": "code",
   "execution_count": 9,
   "metadata": {},
   "outputs": [
    {
     "data": {
      "text/plain": [
       "0.8669724770642202"
      ]
     },
     "execution_count": 9,
     "metadata": {},
     "output_type": "execute_result"
    }
   ],
   "source": [
    "recall"
   ]
  },
  {
   "cell_type": "code",
   "execution_count": 10,
   "metadata": {},
   "outputs": [
    {
     "data": {
      "text/plain": [
       "0.9688297919469034"
      ]
     },
     "execution_count": 10,
     "metadata": {},
     "output_type": "execute_result"
    }
   ],
   "source": [
    "roc_auc"
   ]
  },
  {
   "cell_type": "code",
   "execution_count": 11,
   "metadata": {},
   "outputs": [],
   "source": [
    "Y_pred = estimator.predict(X_test)"
   ]
  },
  {
   "cell_type": "code",
   "execution_count": 12,
   "metadata": {},
   "outputs": [
    {
     "data": {
      "text/plain": [
       "array([[1065,   74],\n",
       "       [ 116,  756]])"
      ]
     },
     "execution_count": 12,
     "metadata": {},
     "output_type": "execute_result"
    }
   ],
   "source": [
    "confusion_matrix(Y_test, Y_pred)"
   ]
  },
  {
   "cell_type": "code",
   "execution_count": 13,
   "metadata": {},
   "outputs": [
    {
     "name": "stdout",
     "output_type": "stream",
     "text": [
      "[[0.93503073 0.06496927]\n",
      " [0.13302752 0.86697248]]\n"
     ]
    },
    {
     "data": {
      "image/png": "[encoded data removed]",
      "text/plain": [
       "<Figure size 432x288 with 2 Axes>"
      ]
     },
     "metadata": {
      "needs_background": "light"
     },
     "output_type": "display_data"
    }
   ],
   "source": [
    "disp = plot_confusion_matrix(estimator.fitted_pipeline_, X_test, Y_test,\n",
    "                                 display_labels=[0, 1],\n",
    "                                 cmap=plt.cm.Blues,\n",
    "                                 normalize=\"true\")\n",
    "disp.ax_.set_title('Matriz de Confusão')\n",
    "\n",
    "print(disp.confusion_matrix)"
   ]
  },
  {
   "cell_type": "code",
   "execution_count": 14,
   "metadata": {},
   "outputs": [],
   "source": [
    "lr_probs = estimator.predict_proba(X_test)[:,1]\n",
    "\n",
    "ns_probs = [0 for _ in range(len(Y_test))]\n",
    "ns_auc = roc_auc_score(Y_test, ns_probs)\n",
    "lr_auc = roc_auc_score(Y_test, lr_probs)"
   ]
  },
  {
   "cell_type": "code",
   "execution_count": 15,
   "metadata": {},
   "outputs": [
    {
     "name": "stdout",
     "output_type": "stream",
     "text": [
      "No Skill: ROC AUC=0.500\n",
      "Logistic: ROC AUC=0.969\n"
     ]
    }
   ],
   "source": [
    "print('No Skill: ROC AUC=%.3f' % (ns_auc))\n",
    "print('Logistic: ROC AUC=%.3f' % (lr_auc))"
   ]
  },
  {
   "cell_type": "code",
   "execution_count": 16,
   "metadata": {},
   "outputs": [],
   "source": [
    "# calculate roc curves\n",
    "ns_fpr, ns_tpr, _ = roc_curve(Y_test, ns_probs)\n",
    "lr_fpr, lr_tpr, _ = roc_curve(Y_test, lr_probs)"
   ]
  },
  {
   "cell_type": "code",
   "execution_count": 17,
   "metadata": {},
   "outputs": [
    {
     "data": {
      "image/png": "[encoded data removed]",
      "text/plain": [
       "<Figure size 432x288 with 1 Axes>"
      ]
     },
     "metadata": {
      "needs_background": "light"
     },
     "output_type": "display_data"
    }
   ],
   "source": [
    "# plot the roc curve for the model\n",
    "plt.plot(ns_fpr, ns_tpr, linestyle='--', label='No Skill')\n",
    "plt.plot(lr_fpr, lr_tpr, marker='.', label='Logistic')\n",
    "# axis labels\n",
    "plt.xlabel('False Positive Rate')\n",
    "plt.ylabel('True Positive Rate')\n",
    "# show the legend\n",
    "plt.legend()\n",
    "# show the plot\n",
    "plt.show()"
   ]
  }
 ],
 "metadata": {
  "kernelspec": {
   "display_name": "Python 3",
   "language": "python",
   "name": "python3"
  },
  "language_info": {
   "codemirror_mode": {
    "name": "ipython",
    "version": 3
   },
   "file_extension": ".py",
   "mimetype": "text/x-python",
   "name": "python",
   "nbconvert_exporter": "python",
   "pygments_lexer": "ipython3",
   "version": "3.7.6"
  }
 },
 "nbformat": 4,
 "nbformat_minor": 2
}
