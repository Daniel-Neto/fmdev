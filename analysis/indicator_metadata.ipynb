{
 "cells": [
  {
   "cell_type": "code",
   "execution_count": 1,
   "metadata": {},
   "outputs": [],
   "source": [
    "import pandas as pd"
   ]
  },
  {
   "cell_type": "code",
   "execution_count": 5,
   "metadata": {},
   "outputs": [],
   "source": [
    "df = pd.read_csv(\"data/request.csv\")"
   ]
  },
  {
   "cell_type": "code",
   "execution_count": 7,
   "metadata": {},
   "outputs": [
    {
     "name": "stdout",
     "output_type": "stream",
     "text": [
      "<class 'pandas.core.frame.DataFrame'>\n",
      "RangeIndex: 77 entries, 0 to 76\n",
      "Data columns (total 64 columns):\n",
      "curso                 77 non-null object\n",
      "data_de_final         77 non-null int64\n",
      "data_de_início        77 non-null int64\n",
      "desempenho            77 non-null float64\n",
      "desempenho_binario    77 non-null float64\n",
      "desempenho_classes    77 non-null object\n",
      "forum01               77 non-null float64\n",
      "forum02               77 non-null float64\n",
      "forum03               77 non-null float64\n",
      "forum04               77 non-null float64\n",
      "id_da_disciplina      77 non-null int64\n",
      "id_do_aluno           77 non-null int64\n",
      "media_forum           77 non-null float64\n",
      "media_provas          77 non-null float64\n",
      "media_webquest        77 non-null float64\n",
      "nome_da_disciplina    77 non-null object\n",
      "nome_do_aluno         77 non-null object\n",
      "período               77 non-null int64\n",
      "primeira_prova        77 non-null float64\n",
      "prova01               77 non-null float64\n",
      "prova01_2chamada      77 non-null float64\n",
      "prova02               77 non-null float64\n",
      "prova02_2chamada      77 non-null float64\n",
      "segunda_prova         77 non-null float64\n",
      "semestre              77 non-null float64\n",
      "var01                 77 non-null float64\n",
      "var02                 77 non-null float64\n",
      "var03                 77 non-null float64\n",
      "var04                 77 non-null float64\n",
      "var05                 77 non-null float64\n",
      "var06                 77 non-null float64\n",
      "var07                 77 non-null float64\n",
      "var08                 77 non-null float64\n",
      "var09                 77 non-null float64\n",
      "var10                 77 non-null float64\n",
      "var12                 77 non-null float64\n",
      "var13                 77 non-null float64\n",
      "var14                 77 non-null float64\n",
      "var15                 77 non-null float64\n",
      "var16                 77 non-null float64\n",
      "var17                 77 non-null float64\n",
      "var18                 77 non-null float64\n",
      "var19                 77 non-null float64\n",
      "var20                 77 non-null float64\n",
      "var21                 77 non-null float64\n",
      "var22                 77 non-null float64\n",
      "var23                 77 non-null float64\n",
      "var24                 77 non-null float64\n",
      "var25                 77 non-null float64\n",
      "var28                 77 non-null float64\n",
      "var29                 77 non-null float64\n",
      "var30                 77 non-null float64\n",
      "var31                 77 non-null float64\n",
      "var31b                77 non-null float64\n",
      "var31c                77 non-null float64\n",
      "var32a                77 non-null float64\n",
      "var32b                77 non-null float64\n",
      "var32c                77 non-null float64\n",
      "var32d                77 non-null float64\n",
      "var33                 77 non-null float64\n",
      "var34                 77 non-null float64\n",
      "var35                 77 non-null float64\n",
      "webquest01            77 non-null float64\n",
      "webquest02            77 non-null float64\n",
      "dtypes: float64(55), int64(5), object(4)\n",
      "memory usage: 38.6+ KB\n"
     ]
    }
   ],
   "source": [
    "df.info()"
   ]
  },
  {
   "cell_type": "code",
   "execution_count": null,
   "metadata": {},
   "outputs": [],
   "source": []
  }
 ],
 "metadata": {
  "kernelspec": {
   "display_name": "Python 3",
   "language": "python",
   "name": "python3"
  },
  "language_info": {
   "codemirror_mode": {
    "name": "ipython",
    "version": 3
   },
   "file_extension": ".py",
   "mimetype": "text/x-python",
   "name": "python",
   "nbconvert_exporter": "python",
   "pygments_lexer": "ipython3",
   "version": "3.7.6"
  }
 },
 "nbformat": 4,
 "nbformat_minor": 4
}
